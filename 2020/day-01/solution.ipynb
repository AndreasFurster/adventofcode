{
 "metadata": {
  "language_info": {
   "codemirror_mode": {
    "name": "ipython",
    "version": 3
   },
   "file_extension": ".py",
   "mimetype": "text/x-python",
   "name": "python",
   "nbconvert_exporter": "python",
   "pygments_lexer": "ipython3",
   "version": "3.7.3-final"
  },
  "orig_nbformat": 2,
  "kernelspec": {
   "name": "python3",
   "display_name": "Python 3"
  }
 },
 "nbformat": 4,
 "nbformat_minor": 2,
 "cells": [
  {
   "cell_type": "code",
   "execution_count": 1,
   "metadata": {},
   "outputs": [
    {
     "output_type": "execute_result",
     "data": {
      "text/plain": [
       "200"
      ]
     },
     "metadata": {},
     "execution_count": 1
    }
   ],
   "source": [
    "with open('input.txt') as f:\n",
    "    input = f.read().splitlines()\n",
    "\n",
    "# Input length\n",
    "len(input)"
   ]
  },
  {
   "source": [
    "## Part 1"
   ],
   "cell_type": "markdown",
   "metadata": {}
  },
  {
   "cell_type": "code",
   "execution_count": 2,
   "metadata": {
    "tags": []
   },
   "outputs": [
    {
     "output_type": "stream",
     "name": "stdout",
     "text": [
      "Number 1: 1228\nNumber 2: 792\nAnswer: 972576\n"
     ]
    }
   ],
   "source": [
    "found = False\n",
    "\n",
    "# Loop trough the entire list\n",
    "for i in input:\n",
    "    if(found): break\n",
    "\n",
    "    # Do it again\n",
    "    for j in input:\n",
    "        if(found): break\n",
    "\n",
    "        # Convert to int\n",
    "        n1 = int(i)\n",
    "        n2 = int(j)\n",
    "\n",
    "        # Sum both numbers\n",
    "        if(n1 + n2 == 2020):\n",
    "            print(f\"Number 1: {n1}\")\n",
    "            print(f\"Number 2: {n2}\")\n",
    "\n",
    "            # Calculate multiplication\n",
    "            print(f\"Answer: {n1 * n2}\")\n",
    "\n",
    "            # Prevent further execution\n",
    "            found = True"
   ]
  },
  {
   "source": [
    "## Part 2"
   ],
   "cell_type": "markdown",
   "metadata": {}
  },
  {
   "cell_type": "code",
   "execution_count": 3,
   "metadata": {},
   "outputs": [
    {
     "output_type": "stream",
     "name": "stdout",
     "text": [
      "Number 1: 1030\nNumber 2: 268\nNumber 3: 722\nAnswer: 199300880\n"
     ]
    }
   ],
   "source": [
    "found = False\n",
    "\n",
    "# Loop trough the entire list\n",
    "for i in input:\n",
    "    if(found): break\n",
    "\n",
    "    # Do it again\n",
    "    for j in input:\n",
    "        if(found): break\n",
    "\n",
    "        # Do it again\n",
    "        for k in input:\n",
    "            if(found): break\n",
    "\n",
    "            # Convert to int\n",
    "            n1 = int(i)\n",
    "            n2 = int(j)\n",
    "            n3 = int(k)\n",
    "\n",
    "            # Sum both numbers\n",
    "            if(n1 + n2 + n3 == 2020):\n",
    "                print(f\"Number 1: {n1}\")\n",
    "                print(f\"Number 2: {n2}\")\n",
    "                print(f\"Number 3: {n3}\")\n",
    "\n",
    "                # Calculate multiplication\n",
    "                print(f\"Answer: {n1 * n2 * n3}\")\n",
    "\n",
    "                # Prevent further execution\n",
    "                found = True"
   ]
  }
 ]
}