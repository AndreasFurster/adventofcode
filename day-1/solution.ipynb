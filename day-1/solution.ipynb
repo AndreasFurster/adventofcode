{
 "metadata": {
  "language_info": {
   "codemirror_mode": {
    "name": "ipython",
    "version": 3
   },
   "file_extension": ".py",
   "mimetype": "text/x-python",
   "name": "python",
   "nbconvert_exporter": "python",
   "pygments_lexer": "ipython3",
   "version": "3.9.0-final"
  },
  "orig_nbformat": 2,
  "kernelspec": {
   "name": "python3",
   "display_name": "Python 3.9.0 64-bit",
   "metadata": {
    "interpreter": {
     "hash": "3f75a622fdbe68ac4774c6ea619d86cc770141a8bef94a85fce2870eb7cb09bf"
    }
   }
  }
 },
 "nbformat": 4,
 "nbformat_minor": 2,
 "cells": [
  {
   "cell_type": "code",
   "execution_count": 14,
   "metadata": {},
   "outputs": [
    {
     "output_type": "execute_result",
     "data": {
      "text/plain": [
       "200"
      ]
     },
     "metadata": {},
     "execution_count": 14
    }
   ],
   "source": [
    "with open('input.txt') as f:\n",
    "    input = f.read().splitlines()\n",
    "\n",
    "# Input length\n",
    "len(input)"
   ]
  },
  {
   "cell_type": "code",
   "execution_count": 33,
   "metadata": {
    "tags": []
   },
   "outputs": [
    {
     "output_type": "stream",
     "name": "stdout",
     "text": [
      "Number 1: 1228\nNumber 2: 792\nAnswer: 972576\n"
     ]
    }
   ],
   "source": [
    "found = False\n",
    "\n",
    "# Loop trough the entire list\n",
    "for i in input:\n",
    "    if(found): break\n",
    "\n",
    "    # Do it again\n",
    "    for j in input:\n",
    "        if(found): break\n",
    "\n",
    "        # Convert to int\n",
    "        n1 = int(i)\n",
    "        n2 = int(j)\n",
    "\n",
    "        # Sum both numbers\n",
    "        if(n1 + n2 == 2020):\n",
    "            print(f\"Number 1: {n1}\")\n",
    "            print(f\"Number 2: {n2}\")\n",
    "\n",
    "            # Calculate multiplication\n",
    "            print(f\"Answer: {n1 * n2}\")\n",
    "\n",
    "            # Prevent further execution\n",
    "            found = True\n",
    "            \n",
    "        \n",
    "            \n",
    "            "
   ]
  },
  {
   "source": [],
   "cell_type": "markdown",
   "metadata": {}
  }
 ]
}