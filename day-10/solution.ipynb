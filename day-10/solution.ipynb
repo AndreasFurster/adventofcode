{
 "metadata": {
  "language_info": {
   "codemirror_mode": {
    "name": "ipython",
    "version": 3
   },
   "file_extension": ".py",
   "mimetype": "text/x-python",
   "name": "python",
   "nbconvert_exporter": "python",
   "pygments_lexer": "ipython3",
   "version": "3.7.3-final"
  },
  "orig_nbformat": 2,
  "kernelspec": {
   "name": "python3",
   "display_name": "Python 3",
   "language": "python"
  }
 },
 "nbformat": 4,
 "nbformat_minor": 2,
 "cells": [
  {
   "source": [
    "## Prepare"
   ],
   "cell_type": "markdown",
   "metadata": {}
  },
  {
   "cell_type": "code",
   "execution_count": 198,
   "metadata": {},
   "outputs": [],
   "source": [
    "with open('input.txt') as f:\n",
    "    input = f.read().splitlines()"
   ]
  },
  {
   "cell_type": "code",
   "execution_count": 199,
   "metadata": {},
   "outputs": [],
   "source": [
    "def transformInput(input):\n",
    "    output = []\n",
    "    for row in input:\n",
    "        output.append(int(row))\n",
    "\n",
    "    return output"
   ]
  },
  {
   "cell_type": "code",
   "execution_count": 200,
   "metadata": {},
   "outputs": [],
   "source": [
    "result1 = 0\n",
    "result2 = 0\n",
    "\n",
    "# Parse to integers\n",
    "rows = transformInput(input)\n",
    "\n",
    "# Add device adapter\n",
    "rows.append(max(rows) + 3)"
   ]
  },
  {
   "source": [
    "## Part 1"
   ],
   "cell_type": "markdown",
   "metadata": {}
  },
  {
   "cell_type": "code",
   "execution_count": 201,
   "metadata": {
    "tags": []
   },
   "outputs": [
    {
     "output_type": "stream",
     "name": "stdout",
     "text": [
      "Part 1: 1885\n"
     ]
    }
   ],
   "source": [
    "adaptersInRow = []\n",
    "joltDifferences = {\n",
    "    1: 0,\n",
    "    2: 0,\n",
    "    3: 0\n",
    "}\n",
    "\n",
    "joltDifference = 0\n",
    "\n",
    "for i in range(1, max(rows) + 1):\n",
    "    joltDifference += 1\n",
    "\n",
    "    if i in rows:\n",
    "        joltDifferences[joltDifference] += 1\n",
    "        joltDifference = 0\n",
    "\n",
    "\n",
    "result1 = joltDifferences[1] * joltDifferences[3]\n",
    "\n",
    "print(f\"Part 1: {result1}\")"
   ]
  },
  {
   "source": [
    "## Part 2"
   ],
   "cell_type": "markdown",
   "metadata": {}
  }
 ]
}