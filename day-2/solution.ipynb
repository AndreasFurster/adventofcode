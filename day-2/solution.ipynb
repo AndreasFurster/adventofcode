{
 "metadata": {
  "language_info": {
   "codemirror_mode": {
    "name": "ipython",
    "version": 3
   },
   "file_extension": ".py",
   "mimetype": "text/x-python",
   "name": "python",
   "nbconvert_exporter": "python",
   "pygments_lexer": "ipython3",
   "version": "3.7.3-final"
  },
  "orig_nbformat": 2,
  "kernelspec": {
   "name": "python3",
   "display_name": "Python 3"
  }
 },
 "nbformat": 4,
 "nbformat_minor": 2,
 "cells": [
  {
   "cell_type": "code",
   "execution_count": 2,
   "metadata": {},
   "outputs": [
    {
     "output_type": "stream",
     "name": "stdout",
     "text": [
      "1000\n6-9 z: qzzzzxzzfzzzz\n"
     ]
    }
   ],
   "source": [
    "with open('input.txt') as f:\n",
    "    input = f.read().splitlines()\n",
    "\n",
    "# Input length\n",
    "print(len(input))\n",
    "print(input[0])"
   ]
  },
  {
   "cell_type": "code",
   "execution_count": 13,
   "metadata": {},
   "outputs": [],
   "source": [
    "class PasswordValidator:\n",
    "    def __init__(self, password, minReq, maxReq, char):\n",
    "        self.password = password\n",
    "        self.minReq = minReq\n",
    "        self.maxReq = maxReq\n",
    "        self.char = char\n",
    "\n",
    "    def validate(self):\n",
    "        occurrences = 0\n",
    "\n",
    "        for c in self.password:\n",
    "            if(c == self.char): \n",
    "                occurrences += 1\n",
    "\n",
    "        return occurrences >= minReq and occurrences <= maxReq\n"
   ]
  },
  {
   "source": [
    "## Part 1"
   ],
   "cell_type": "markdown",
   "metadata": {}
  },
  {
   "cell_type": "code",
   "execution_count": 14,
   "metadata": {
    "tags": []
   },
   "outputs": [
    {
     "output_type": "execute_result",
     "data": {
      "text/plain": [
       "506"
      ]
     },
     "metadata": {},
     "execution_count": 14
    }
   ],
   "source": [
    "validPasswords = 0\n",
    "\n",
    "# Loop trough the entire list\n",
    "for i in input:\n",
    "    inputParts = i.split(':')\n",
    "    requirementParts = inputParts[0].split(' ')\n",
    "    minMaxParts = requirementParts[0].split('-')\n",
    "\n",
    "    password = inputParts[1]\n",
    "    minReq = int(minMaxParts[0])\n",
    "    maxReq = int(minMaxParts[1])\n",
    "    char = requirementParts[1]\n",
    "\n",
    "    validator = PasswordValidator(password, minReq, maxReq, char)\n",
    "\n",
    "    if(validator.validate()):\n",
    "        validPasswords += 1\n",
    "\n",
    "validPasswords"
   ]
  },
  {
   "source": [
    "## Part 2"
   ],
   "cell_type": "markdown",
   "metadata": {}
  }
 ]
}