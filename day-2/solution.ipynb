{
 "metadata": {
  "language_info": {
   "codemirror_mode": {
    "name": "ipython",
    "version": 3
   },
   "file_extension": ".py",
   "mimetype": "text/x-python",
   "name": "python",
   "nbconvert_exporter": "python",
   "pygments_lexer": "ipython3",
   "version": "3.7.3-final"
  },
  "orig_nbformat": 2,
  "kernelspec": {
   "name": "python3",
   "display_name": "Python 3"
  }
 },
 "nbformat": 4,
 "nbformat_minor": 2,
 "cells": [
  {
   "cell_type": "code",
   "execution_count": 31,
   "metadata": {},
   "outputs": [
    {
     "output_type": "stream",
     "name": "stdout",
     "text": [
      "1000\n6-9 z: qzzzzxzzfzzzz\n"
     ]
    }
   ],
   "source": [
    "with open('input.txt') as f:\n",
    "    input = f.read().splitlines()\n",
    "\n",
    "# Input length\n",
    "print(len(input))\n",
    "print(input[0])"
   ]
  },
  {
   "source": [
    "## Part 1"
   ],
   "cell_type": "markdown",
   "metadata": {}
  },
  {
   "cell_type": "code",
   "execution_count": 32,
   "metadata": {},
   "outputs": [],
   "source": [
    "def validate1(password, minReq, maxReq, char):\n",
    "    occurrences = 0\n",
    "\n",
    "    for c in password:\n",
    "        if(c == char): \n",
    "            occurrences += 1\n",
    "\n",
    "    return occurrences >= minReq and occurrences <= maxReq\n"
   ]
  },
  {
   "source": [
    "## Part 2"
   ],
   "cell_type": "markdown",
   "metadata": {}
  },
  {
   "source": [
    "def validate2(password, minReq, maxReq, char):\n",
    "    occurrences = 0\n",
    "\n",
    "    # If both are the char: False\n",
    "    if(password[minReq] == char and password[maxReq] == char):\n",
    "        return False\n",
    "\n",
    "    # If the first is char: True\n",
    "    if(password[minReq] == char):\n",
    "        return True;\n",
    "\n",
    "    # If the last is char: True\n",
    "    if(password[maxReq] == char):\n",
    "        return True;\n",
    "\n",
    "    # else: false\n",
    "    return False;"
   ],
   "cell_type": "code",
   "metadata": {},
   "execution_count": 33,
   "outputs": []
  },
  {
   "source": [
    "## Get results"
   ],
   "cell_type": "markdown",
   "metadata": {}
  },
  {
   "cell_type": "code",
   "execution_count": 34,
   "metadata": {
    "tags": []
   },
   "outputs": [
    {
     "output_type": "stream",
     "name": "stdout",
     "text": [
      "Valid passwords part 1: 506\nValid passwords part 2: 443\n"
     ]
    }
   ],
   "source": [
    "valid1Passwords = 0\n",
    "valid2Passwords = 0\n",
    "\n",
    "# Loop trough the entire list\n",
    "for i in input:\n",
    "    inputParts = i.split(':')\n",
    "    requirementParts = inputParts[0].split(' ')\n",
    "    minMaxParts = requirementParts[0].split('-')\n",
    "\n",
    "    password = inputParts[1]\n",
    "    minReq = int(minMaxParts[0])\n",
    "    maxReq = int(minMaxParts[1])\n",
    "    char = requirementParts[1]\n",
    "\n",
    "    if(validate1(password, minReq, maxReq, char)):\n",
    "        valid1Passwords += 1\n",
    "\n",
    "    if(validate2(password, minReq, maxReq, char)):\n",
    "        valid2Passwords += 1\n",
    "\n",
    "        \n",
    "\n",
    "print(f\"Valid passwords part 1: {valid1Passwords}\")\n",
    "print(f\"Valid passwords part 2: {valid2Passwords}\")"
   ]
  }
 ]
}