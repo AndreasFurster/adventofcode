{
 "metadata": {
  "language_info": {
   "codemirror_mode": {
    "name": "ipython",
    "version": 3
   },
   "file_extension": ".py",
   "mimetype": "text/x-python",
   "name": "python",
   "nbconvert_exporter": "python",
   "pygments_lexer": "ipython3",
   "version": "3.7.3-final"
  },
  "orig_nbformat": 2,
  "kernelspec": {
   "name": "python3",
   "display_name": "Python 3"
  }
 },
 "nbformat": 4,
 "nbformat_minor": 2,
 "cells": [
  {
   "cell_type": "code",
   "execution_count": 4,
   "metadata": {},
   "outputs": [],
   "source": [
    "with open('input.txt') as f:\n",
    "    input = f.read().splitlines()"
   ]
  },
  {
   "source": [
    "def countTrees(input, rowLength, right, down):\n",
    "    position = 0\n",
    "    trees = 0\n",
    "\n",
    "    # For each row (start with the second row)\n",
    "    for i in range(down, len(input), down):\n",
    "        row = input[i]\n",
    "        position += right\n",
    "        pos = position % rowLength\n",
    "\n",
    "        # print(f\"{i}. row[{pos}]: {row} -> {row[pos]}\")\n",
    "        if(row[pos] == '#'):\n",
    "            trees += 1\n",
    "        \n",
    "    return trees"
   ],
   "cell_type": "code",
   "metadata": {},
   "execution_count": 5,
   "outputs": []
  },
  {
   "source": [
    "## Get results"
   ],
   "cell_type": "markdown",
   "metadata": {}
  },
  {
   "cell_type": "code",
   "execution_count": 6,
   "metadata": {
    "tags": []
   },
   "outputs": [
    {
     "output_type": "stream",
     "name": "stdout",
     "text": [
      "Part 1: 193\nPart 2: 1355323200\n"
     ]
    }
   ],
   "source": [
    "rowLength = len(input[0])\n",
    "\n",
    "# Part 1\n",
    "result1 = countTrees(input, rowLength, 3, 1)\n",
    "\n",
    "# Part 2\n",
    "result2 = countTrees(input, rowLength, 1, 1) \\\n",
    "* countTrees(input, rowLength, 3, 1) \\\n",
    "* countTrees(input, rowLength, 5, 1) \\\n",
    "* countTrees(input, rowLength, 7, 1) \\\n",
    "* countTrees(input, rowLength, 1, 2)\n",
    "\n",
    "print(f\"Part 1: {result1}\")\n",
    "print(f\"Part 2: {result2}\")"
   ]
  }
 ]
}