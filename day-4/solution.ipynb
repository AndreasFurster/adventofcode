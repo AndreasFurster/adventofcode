{
 "metadata": {
  "language_info": {
   "codemirror_mode": {
    "name": "ipython",
    "version": 3
   },
   "file_extension": ".py",
   "mimetype": "text/x-python",
   "name": "python",
   "nbconvert_exporter": "python",
   "pygments_lexer": "ipython3",
   "version": "3.7.3-final"
  },
  "orig_nbformat": 2,
  "kernelspec": {
   "name": "python3",
   "display_name": "Python 3"
  }
 },
 "nbformat": 4,
 "nbformat_minor": 2,
 "cells": [
  {
   "cell_type": "code",
   "execution_count": 50,
   "metadata": {},
   "outputs": [],
   "source": [
    "with open('input.txt') as f:\n",
    "    input = f.read().splitlines()"
   ]
  },
  {
   "source": [
    "def passwordIsValid1(password):\n",
    "    requirements = ['byr','iyr','eyr','hgt','hcl','ecl','pid']\n",
    "\n",
    "    for req in requirements:\n",
    "        if req not in password:\n",
    "            return False\n",
    "\n",
    "    return True"
   ],
   "cell_type": "code",
   "metadata": {},
   "execution_count": 51,
   "outputs": []
  },
  {
   "cell_type": "code",
   "execution_count": 52,
   "metadata": {},
   "outputs": [],
   "source": [
    "import re\n",
    "\n",
    "def passwordIsValid2(password):\n",
    "    # Capture all fields with key\n",
    "    regex = r\"([a-z]+):(.*?)\\s\"\n",
    "    matches = re.findall(regex, password)\n",
    "\n",
    "    # Convert matches to dict\n",
    "    fields = {}\n",
    "    for match in matches:\n",
    "        fields[match[0]] = match[1]\n",
    "\n",
    "    requiredFields = ['byr','iyr','eyr','hgt','hcl','ecl','pid']\n",
    "\n",
    "    for req in requiredFields:\n",
    "        if req not in fields:\n",
    "            return False\n",
    "\n",
    "    # byr (Birth Year) - four digits; at least 1920 and at most 2002.\n",
    "    if int(fields['byr']) < 1920 or int(fields['byr']) > 2002:\n",
    "        return False\n",
    "\n",
    "    # iyr (Issue Year) - four digits; at least 2010 and at most 2020.\n",
    "    if int(fields['iyr']) < 2010 or int(fields['iyr']) > 2020:\n",
    "        return False\n",
    "\n",
    "    # eyr (Expiration Year) - four digits; at least 2020 and at most 2030.\n",
    "    if int(fields['eyr']) < 2020 or int(fields['eyr']) > 2030:\n",
    "        return False\n",
    "\n",
    "    # hgt (Height) - a number followed by either cm or in:\n",
    "    hgtMatch = re.match(r\"([0-9]+)(cm|in)\", fields['hgt'])\n",
    "    if hgtMatch is None:\n",
    "        return False\n",
    "\n",
    "    # If cm, the number must be at least 150 and at most 193.\n",
    "    if hgtMatch[2] == 'cm':\n",
    "        if int(hgtMatch[1]) < 150 or int(hgtMatch[1]) > 193:\n",
    "            return False\n",
    "\n",
    "    # If in, the number must be at least 59 and at most 76.\n",
    "    if hgtMatch[2] == 'in':\n",
    "        if int(hgtMatch[1]) < 59 or int(hgtMatch[1]) > 76:\n",
    "            return False\n",
    "\n",
    "    # hcl (Hair Color) - a # followed by exactly six characters 0-9 or a-f.\n",
    "    if re.match(r\"#[0-9a-f]{6}\", fields['hcl']) is None:\n",
    "        return False\n",
    "\n",
    "    # ecl (Eye Color) - exactly one of: amb blu brn gry grn hzl oth.\n",
    "    if re.match(r\"(?:amb|blu|brn|gry|grn|hzl|oth)\", fields['ecl']) is None:\n",
    "        return False\n",
    "\n",
    "    # pid (Passport ID) - a nine-digit number, including leading zeroes.\n",
    "    if re.match(r\"^[0-9]{9}$\", fields['pid']) is None:\n",
    "        return False\n",
    "    \n",
    "    # cid (Country ID) - ignored, missing or not.\n",
    "\n",
    "    return True"
   ]
  },
  {
   "source": [
    "## Get results"
   ],
   "cell_type": "markdown",
   "metadata": {}
  },
  {
   "cell_type": "code",
   "execution_count": 53,
   "metadata": {
    "tags": []
   },
   "outputs": [
    {
     "output_type": "stream",
     "name": "stdout",
     "text": [
      "Part 1: 206\nPart 2: 123\n"
     ]
    }
   ],
   "source": [
    "# Add empty row at the end to make sure the last one gets validated too\n",
    "input.append('')\n",
    "\n",
    "count1 = 0\n",
    "count2 = 0\n",
    "password = ''\n",
    "\n",
    "for row in input:\n",
    "    # Keep adding rows to the password if a blank line is not found\n",
    "    if row is not '':\n",
    "        password += row + ' '\n",
    "    else:\n",
    "        # Check password & add 1 to count if valid\n",
    "        count1 += 1 if passwordIsValid1(password) else 0\n",
    "        count2 += 1 if passwordIsValid2(password) else 0\n",
    "        password = ''\n",
    "\n",
    "print(f\"Part 1: {count1}\")\n",
    "print(f\"Part 2: {count2}\")"
   ]
  }
 ]
}