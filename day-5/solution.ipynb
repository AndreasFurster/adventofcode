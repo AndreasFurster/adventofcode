{
 "metadata": {
  "language_info": {
   "codemirror_mode": {
    "name": "ipython",
    "version": 3
   },
   "file_extension": ".py",
   "mimetype": "text/x-python",
   "name": "python",
   "nbconvert_exporter": "python",
   "pygments_lexer": "ipython3",
   "version": "3.7.3-final"
  },
  "orig_nbformat": 2,
  "kernelspec": {
   "name": "python3",
   "display_name": "Python 3"
  }
 },
 "nbformat": 4,
 "nbformat_minor": 2,
 "cells": [
  {
   "cell_type": "code",
   "execution_count": 1,
   "metadata": {},
   "outputs": [],
   "source": [
    "with open('input.txt') as f:\n",
    "    input = f.read().splitlines()"
   ]
  },
  {
   "source": [
    "## Get results"
   ],
   "cell_type": "markdown",
   "metadata": {}
  },
  {
   "cell_type": "code",
   "execution_count": 2,
   "metadata": {
    "tags": []
   },
   "outputs": [
    {
     "output_type": "stream",
     "name": "stdout",
     "text": [
      "Part 1: 976\nPart 2: 685\n"
     ]
    }
   ],
   "source": [
    "result1 = 0\n",
    "\n",
    "seatsAvailable = {}\n",
    "\n",
    "for i in range(0, 128):\n",
    "    seatsAvailable[i] = []\n",
    "    for j in range(0, 8):\n",
    "        seatsAvailable[i].append(j)\n",
    "\n",
    "for barcode in input:\n",
    "    # Seperate codes & convert to binary numbers\n",
    "    rowCode = barcode[0:7].replace('F', '0').replace('B', '1')\n",
    "    columnCode = barcode[7:10].replace('L', '0').replace('R', '1')\n",
    "    \n",
    "    # Parse binary integers\n",
    "    row = int(rowCode, 2)\n",
    "    column = int(columnCode, 2)\n",
    "\n",
    "    # Remove seat from available seats\n",
    "    seatsAvailable[row].remove(column)\n",
    "\n",
    "    # Calculate seat id\n",
    "    seatId = row * 8 + column\n",
    "    result1 = max(result1, seatId)\n",
    "\n",
    "# Remove rows with all seats open or filled\n",
    "for row in range(0, 128):\n",
    "    if len(seatsAvailable[row]) != 1:\n",
    "        del seatsAvailable[row]\n",
    "\n",
    "# Get first (and only) seat from available seats\n",
    "seatAvailable = next(iter(seatsAvailable.items()))\n",
    "seatAvailableRow = seatAvailable[0]\n",
    "seatAvailableColumn = seatAvailable[1][0]\n",
    "\n",
    "# Calculate seat id\n",
    "result2 = seatAvailableRow * 8 + seatAvailableColumn\n",
    "\n",
    "print(f\"Part 1: {result1}\")\n",
    "print(f\"Part 2: {result2}\")"
   ]
  }
 ]
}