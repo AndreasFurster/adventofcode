{
 "metadata": {
  "language_info": {
   "codemirror_mode": {
    "name": "ipython",
    "version": 3
   },
   "file_extension": ".py",
   "mimetype": "text/x-python",
   "name": "python",
   "nbconvert_exporter": "python",
   "pygments_lexer": "ipython3",
   "version": "3.7.3-final"
  },
  "orig_nbformat": 2,
  "kernelspec": {
   "name": "python3",
   "display_name": "Python 3"
  }
 },
 "nbformat": 4,
 "nbformat_minor": 2,
 "cells": [
  {
   "cell_type": "code",
   "execution_count": 82,
   "metadata": {},
   "outputs": [],
   "source": [
    "with open('input.txt') as f:\n",
    "    input = f.read().splitlines()"
   ]
  },
  {
   "source": [
    "def getSeatId(barcode):\n",
    "    # Seperate codes & convert to binary numbers\n",
    "    rowCode = barcode[0:7].replace('F', '0').replace('B', '1')\n",
    "    columnCode = barcode[7:10].replace('L', '0').replace('R', '1')\n",
    "    \n",
    "    # Parse binary integers\n",
    "    row = int(rowCode, 2)\n",
    "    column = int(columnCode, 2)\n",
    "\n",
    "    # Calculate seat id\n",
    "    return row * 8 + column"
   ],
   "cell_type": "code",
   "metadata": {},
   "execution_count": 83,
   "outputs": []
  },
  {
   "source": [
    "## Get results"
   ],
   "cell_type": "markdown",
   "metadata": {}
  },
  {
   "cell_type": "code",
   "execution_count": 84,
   "metadata": {
    "tags": []
   },
   "outputs": [
    {
     "output_type": "stream",
     "name": "stdout",
     "text": [
      "Part 1: 976\n"
     ]
    }
   ],
   "source": [
    "result1 = 0\n",
    "\n",
    "for row in input:\n",
    "    result1 = max(result1, getSeatId(row))\n",
    "\n",
    "print(f\"Part 1: {result1}\")\n",
    "# print(f\"Part 2: {count2}\")"
   ]
  }
 ]
}