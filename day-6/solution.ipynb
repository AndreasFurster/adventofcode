{
 "metadata": {
  "language_info": {
   "codemirror_mode": {
    "name": "ipython",
    "version": 3
   },
   "file_extension": ".py",
   "mimetype": "text/x-python",
   "name": "python",
   "nbconvert_exporter": "python",
   "pygments_lexer": "ipython3",
   "version": "3.7.3-final"
  },
  "orig_nbformat": 2,
  "kernelspec": {
   "name": "python3",
   "display_name": "Python 3"
  }
 },
 "nbformat": 4,
 "nbformat_minor": 2,
 "cells": [
  {
   "cell_type": "code",
   "execution_count": 43,
   "metadata": {},
   "outputs": [],
   "source": [
    "with open('input.txt') as f:\n",
    "    input = f.read().splitlines()"
   ]
  },
  {
   "source": [
    "def countDistinctGroupAnswers(groupAnswers):\n",
    "    # Merge all answers to a single string\n",
    "    answerString = ''.join(groupAnswers)\n",
    "\n",
    "    # Create a set based on string and count it\n",
    "    return len(set(answerString))"
   ],
   "cell_type": "code",
   "metadata": {},
   "execution_count": 44,
   "outputs": []
  },
  {
   "cell_type": "code",
   "execution_count": 45,
   "metadata": {},
   "outputs": [],
   "source": [
    "def countSharedGroupAnswers(groupAnswers):\n",
    "    groupSize = len(groupAnswers)\n",
    "    handledAnswers = []\n",
    "    sharedAnswers = []\n",
    "\n",
    "    # Check every answer of all persons\n",
    "    for personAnswers in groupAnswers:\n",
    "        for answer in personAnswers:\n",
    "            # If answer is already handled, skip.\n",
    "            if answer in handledAnswers:\n",
    "                continue;\n",
    "\n",
    "            # Count persons with same answer\n",
    "            sameAnswerCount = 0\n",
    "            for otherPersonAnswers in groupAnswers:\n",
    "                if answer in otherPersonAnswers:\n",
    "                    sameAnswerCount += 1\n",
    "\n",
    "            # If all persons have the answer, add answer to shared list\n",
    "            if sameAnswerCount == groupSize:\n",
    "                handledAnswers.append(answer)\n",
    "                sharedAnswers.append(answer)\n",
    "\n",
    "    return len(sharedAnswers)"
   ]
  },
  {
   "source": [
    "## Get results"
   ],
   "cell_type": "markdown",
   "metadata": {}
  },
  {
   "cell_type": "code",
   "execution_count": 46,
   "metadata": {
    "tags": []
   },
   "outputs": [
    {
     "output_type": "stream",
     "name": "stdout",
     "text": [
      "Part 1: 6161\nPart 2: 2971\n"
     ]
    }
   ],
   "source": [
    "# Add empty row at the end to make sure the last one gets validated too\n",
    "input.append('')\n",
    "\n",
    "count1 = 0\n",
    "count2 = 0\n",
    "groupAnswers = []\n",
    "\n",
    "for row in input:\n",
    "    # Keep adding rows to the groupAnswers if a blank line is not found\n",
    "    if row is not '':\n",
    "        groupAnswers.append(row)\n",
    "\n",
    "    # Handle group if a blank row is found\n",
    "    else:\n",
    "        count1 += countDistinctGroupAnswers(groupAnswers)\n",
    "        count2 += countSharedGroupAnswers(groupAnswers)\n",
    "        groupAnswers = []\n",
    "\n",
    "print(f\"Part 1: {count1}\")\n",
    "print(f\"Part 2: {count2}\")"
   ]
  }
 ]
}