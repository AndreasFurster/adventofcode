{
 "metadata": {
  "language_info": {
   "codemirror_mode": {
    "name": "ipython",
    "version": 3
   },
   "file_extension": ".py",
   "mimetype": "text/x-python",
   "name": "python",
   "nbconvert_exporter": "python",
   "pygments_lexer": "ipython3",
   "version": "3.7.3-final"
  },
  "orig_nbformat": 2,
  "kernelspec": {
   "name": "python3",
   "display_name": "Python 3"
  }
 },
 "nbformat": 4,
 "nbformat_minor": 2,
 "cells": [
  {
   "cell_type": "code",
   "execution_count": 118,
   "metadata": {},
   "outputs": [],
   "source": [
    "with open('input.txt') as f:\n",
    "    input = f.read().splitlines()"
   ]
  },
  {
   "source": [
    "import re\n",
    "\n",
    "def transformInput(input):\n",
    "\n",
    "    rules = []\n",
    "    for row in input:\n",
    "        ruleRegex = r\"^(.*) bags contain (.*) bags?\\.\"\n",
    "        ruleMatches = re.findall(ruleRegex, row)[0]\n",
    "\n",
    "        subject = ruleMatches[0]\n",
    "        allowedContents = ruleMatches[1]\n",
    "        \n",
    "        # If no bags allowed ignore the rule\n",
    "        if allowedContents == \"no other\":\n",
    "            continue\n",
    "\n",
    "        allowedBagsData = allowedContents.split(', ')\n",
    "        allowedBags = []\n",
    "    \n",
    "        for allowedBagData in allowedBagsData:\n",
    "            bagWithAmount = allowedBagData.replace(' bags', '').replace(' bag', '')\n",
    "\n",
    "            allowedBagRegex = r\"([0-9]+) (.*)\"\n",
    "            allowedBagMatches = re.findall(allowedBagRegex, bagWithAmount)[0]\n",
    "\n",
    "            allowedBags.append({ 'amount': int(allowedBagMatches[0]), 'bag': allowedBagMatches[1] })\n",
    "            \n",
    "        rules.append({ \n",
    "            'subject': subject, \n",
    "            'allowedBags': allowedBags\n",
    "        })\n",
    "\n",
    "    return rules\n",
    "\n",
    "def flattenRules(rules):\n",
    "    flatRules = []\n",
    "\n",
    "    for rule in rules:\n",
    "        for bag in rule['allowedBags']:\n",
    "            flatRules.append({ \n",
    "                'subject': rule['subject'],\n",
    "                'allowedBag': bag['bag']\n",
    "            })\n",
    "\n",
    "    return flatRules\n",
    "\n",
    "def findRuleForBag(rules, bag):\n",
    "    for rule in rules:\n",
    "        if rule['subject'] == bag:\n",
    "            return rule\n",
    "\n",
    "    return None\n",
    "\n",
    "\n",
    "# This could/should be way more optimized! There is no white/black list of (in)valid items.\n",
    "def canContainBag(rules, subject, path, allowed, search):\n",
    "    # Return true if allowed child matches with search\n",
    "    if allowed == search:\n",
    "        return True\n",
    "\n",
    "    path.append(subject)\n",
    "\n",
    "    # Don't check childs if it's already checked\n",
    "    if allowed in path:\n",
    "        return False\n",
    "\n",
    "    for rule in rules:\n",
    "        # Don't process other bags that aren't allowed\n",
    "        if rule['subject'] != allowed:\n",
    "            continue\n",
    "        \n",
    "        # Lets check it\n",
    "        if canContainBag(rules, rule['subject'], path, rule['allowedBag'], search):\n",
    "            return True\n",
    "    \n",
    "    return False\n",
    "\n",
    "def countContainingBags(rules, bag):\n",
    "    result = 1\n",
    "    \n",
    "    rule = findRuleForBag(rules, bag)\n",
    "\n",
    "    if rule is None:\n",
    "        return result\n",
    "\n",
    "    for innerBag in rule['allowedBags']:\n",
    "        result += innerBag['amount'] * countContainingBags(rules, innerBag['bag'])\n",
    "\n",
    "    return result"
   ],
   "cell_type": "code",
   "metadata": {},
   "execution_count": 119,
   "outputs": []
  },
  {
   "source": [
    "## Get results"
   ],
   "cell_type": "markdown",
   "metadata": {}
  },
  {
   "cell_type": "code",
   "execution_count": 120,
   "metadata": {
    "tags": []
   },
   "outputs": [
    {
     "output_type": "stream",
     "name": "stdout",
     "text": [
      "Part 1: 252\nPart 2: 35487\n"
     ]
    }
   ],
   "source": [
    "result1 = 0\n",
    "result2 = 0\n",
    "\n",
    "validBags = []\n",
    "\n",
    "# Parse input rules\n",
    "rules = transformInput(input)\n",
    "\n",
    "# Flatten with multiple inner bags to single bags for part 1\n",
    "flatRules = flattenRules(rules)\n",
    "\n",
    "# Part 1\n",
    "for rule in flatRules:\n",
    "    # Skip checking valid bags\n",
    "    if rule['subject'] in validBags:\n",
    "        continue\n",
    "\n",
    "    if canContainBag(flatRules, rule['subject'], [ ], rule['allowedBag'], 'shiny gold'):\n",
    "        validBags.append(rule['subject'])\n",
    "        result1 += 1\n",
    "    \n",
    "\n",
    "# Part 2\n",
    "result2 = countContainingBags(rules, 'shiny gold') - 1\n",
    "\n",
    "print(f\"Part 1: {result1}\")\n",
    "print(f\"Part 2: {result2}\")"
   ]
  }
 ]
}