{
 "metadata": {
  "language_info": {
   "codemirror_mode": {
    "name": "ipython",
    "version": 3
   },
   "file_extension": ".py",
   "mimetype": "text/x-python",
   "name": "python",
   "nbconvert_exporter": "python",
   "pygments_lexer": "ipython3",
   "version": "3.7.3-final"
  },
  "orig_nbformat": 2,
  "kernelspec": {
   "name": "python3",
   "display_name": "Python 3",
   "language": "python"
  }
 },
 "nbformat": 4,
 "nbformat_minor": 2,
 "cells": [
  {
   "cell_type": "code",
   "execution_count": 235,
   "metadata": {},
   "outputs": [],
   "source": [
    "with open('input.txt') as f:\n",
    "    input = f.read().splitlines()"
   ]
  },
  {
   "source": [
    "import re\n",
    "\n",
    "def transformInput(input):\n",
    "    instructions = []\n",
    "    for row in input:\n",
    "        ruleRegex = r\"(.+) (.+)\"\n",
    "        ruleMatches = re.findall(ruleRegex, row)[0]\n",
    "        instructions.append({\n",
    "            'op': ruleMatches[0],\n",
    "            'num': int(ruleMatches[1])\n",
    "        })\n",
    "\n",
    "    return instructions"
   ],
   "cell_type": "code",
   "metadata": {},
   "execution_count": 236,
   "outputs": []
  },
  {
   "cell_type": "code",
   "execution_count": 237,
   "metadata": {},
   "outputs": [],
   "source": [
    "def runInstruction(instruction, pointer, acc):\n",
    "    operation = instruction['op']\n",
    "\n",
    "    if operation == 'nop':\n",
    "        pointer += 1\n",
    "\n",
    "    elif operation == 'acc':\n",
    "        acc += instruction['num']\n",
    "        pointer += 1\n",
    "\n",
    "    elif operation == 'jmp':\n",
    "        pointer += instruction['num']\n",
    "\n",
    "    else:\n",
    "        raise Exception(f\"op not supported {operation}\")\n",
    "\n",
    "    return pointer, acc"
   ]
  },
  {
   "source": [
    "## Part 1"
   ],
   "cell_type": "markdown",
   "metadata": {}
  },
  {
   "cell_type": "code",
   "execution_count": 238,
   "metadata": {
    "tags": []
   },
   "outputs": [
    {
     "output_type": "stream",
     "name": "stdout",
     "text": [
      "Part 1: 1446\n"
     ]
    }
   ],
   "source": [
    "result1 = 0\n",
    "\n",
    "instructions = transformInput(input)\n",
    "\n",
    "acc = 0\n",
    "pointer = 0\n",
    "visited = []\n",
    "\n",
    "while True:\n",
    "    if pointer in visited:\n",
    "        break\n",
    "\n",
    "    visited.append(pointer)\n",
    "    pointer, acc = runInstruction(instructions[pointer], pointer, acc)\n",
    "\n",
    "result1 = acc\n",
    "\n",
    "print(f\"Part 1: {result1}\")"
   ]
  },
  {
   "source": [
    "## Part 2\n",
    "\n",
    "I don't know a good solution. It's late, lets brute force it."
   ],
   "cell_type": "markdown",
   "metadata": {}
  },
  {
   "cell_type": "code",
   "execution_count": 239,
   "metadata": {},
   "outputs": [
    {
     "output_type": "stream",
     "name": "stdout",
     "text": [
      "Part 2: 1403\n"
     ]
    }
   ],
   "source": [
    "result2 = 0\n",
    "\n",
    "instructionsLength = len(transformInput(input))\n",
    "\n",
    "# For each instruction\n",
    "for i in range(0, instructionsLength):\n",
    "    instructions = transformInput(input)\n",
    "\n",
    "    # Try to switch the instructions\n",
    "    if instructions[i]['op'] == 'jmp':\n",
    "        instructions[i]['op'] = 'nop'\n",
    "\n",
    "    elif instructions[i]['op'] == 'nop':\n",
    "        instructions[i]['op'] = 'jmp'\n",
    "\n",
    "    # Skip on acc (that one is ok)\n",
    "    else:\n",
    "        continue\n",
    "\n",
    "    acc = 0\n",
    "    pointer = 0\n",
    "    found = False\n",
    "    timeout = instructionsLength\n",
    "\n",
    "    while True:\n",
    "        # If pointer is larger than length of the instructions we have found the answer!\n",
    "        if pointer >= instructionsLength:\n",
    "            found = True\n",
    "            break\n",
    "        \n",
    "        pointer, acc = runInstruction(instructions[pointer], pointer, acc)      \n",
    "\n",
    "        # Prevent infinite loop\n",
    "        timeout -= 1\n",
    "        if timeout < 0:\n",
    "            break\n",
    "\n",
    "    if found:\n",
    "        break\n",
    "\n",
    "result2 = acc\n",
    "\n",
    "print(f\"Part 2: {result2}\")"
   ]
  }
 ]
}