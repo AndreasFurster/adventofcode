{
 "metadata": {
  "language_info": {
   "codemirror_mode": {
    "name": "ipython",
    "version": 3
   },
   "file_extension": ".py",
   "mimetype": "text/x-python",
   "name": "python",
   "nbconvert_exporter": "python",
   "pygments_lexer": "ipython3",
   "version": "3.7.3-final"
  },
  "orig_nbformat": 2,
  "kernelspec": {
   "name": "python3",
   "display_name": "Python 3",
   "language": "python"
  }
 },
 "nbformat": 4,
 "nbformat_minor": 2,
 "cells": [
  {
   "source": [
    "## Prepare"
   ],
   "cell_type": "markdown",
   "metadata": {}
  },
  {
   "cell_type": "code",
   "execution_count": 190,
   "metadata": {},
   "outputs": [],
   "source": [
    "with open('input.txt') as f:\n",
    "    input = f.read().splitlines()"
   ]
  },
  {
   "cell_type": "code",
   "execution_count": 191,
   "metadata": {},
   "outputs": [],
   "source": [
    "def transformInput(input):\n",
    "    output = []\n",
    "    for row in input:\n",
    "        output.append(int(row))\n",
    "\n",
    "    return output"
   ]
  },
  {
   "cell_type": "code",
   "execution_count": 192,
   "metadata": {},
   "outputs": [],
   "source": [
    "result1 = 0\n",
    "result2 = 0\n",
    "\n",
    "# Parse to integers\n",
    "rows = transformInput(input)"
   ]
  },
  {
   "source": [
    "## Part 1\n",
    "\n",
    "**!! Dont forget to change preamble based on test or real input! (test = 5, real = 25) **"
   ],
   "cell_type": "markdown",
   "metadata": {}
  },
  {
   "cell_type": "code",
   "execution_count": 193,
   "metadata": {},
   "outputs": [],
   "source": [
    "def isValid(input, index, preamble):\n",
    "    previousNumbers = input[index - preamble:index]\n",
    "    currentNumber = input[index]\n",
    "\n",
    "    for a in previousNumbers:\n",
    "        for b in previousNumbers:\n",
    "            if a + b == currentNumber:\n",
    "                return True\n",
    "    \n",
    "    return False"
   ]
  },
  {
   "cell_type": "code",
   "execution_count": 194,
   "metadata": {
    "tags": []
   },
   "outputs": [
    {
     "output_type": "stream",
     "name": "stdout",
     "text": [
      "Part 1: 22406676\n"
     ]
    }
   ],
   "source": [
    "preamble = 25\n",
    "maxIndex = 0\n",
    "\n",
    "# Find first invalid number for result1\n",
    "for i in range(preamble, len(rows)):\n",
    "    if not isValid(rows, i, preamble):\n",
    "        maxIndex = i\n",
    "        result1 = rows[i]\n",
    "        break\n",
    "\n",
    "print(f\"Part 1: {result1}\")"
   ]
  },
  {
   "source": [
    "## Part 2"
   ],
   "cell_type": "markdown",
   "metadata": {}
  },
  {
   "cell_type": "code",
   "execution_count": 195,
   "metadata": {},
   "outputs": [],
   "source": [
    "def findContiguousSet(rows, searchSum):\n",
    "    # Define start bound of subset (we need at least 2 items, so start bound cannot be the last item)\n",
    "    for startBound in range(0, len(rows) - 1):\n",
    "\n",
    "        # Define end bound of subset (we need at least 2 items, so end bound cannot be the first item)\n",
    "        for endBound in range(startBound + 1, len(rows)):\n",
    "\n",
    "            # Get the subset\n",
    "            contiguousSet = rows[startBound:endBound]\n",
    "\n",
    "            # Check if sum is searchSum\n",
    "            if sum(contiguousSet) == searchSum:\n",
    "                return contiguousSet"
   ]
  },
  {
   "cell_type": "code",
   "execution_count": 196,
   "metadata": {},
   "outputs": [
    {
     "output_type": "stream",
     "name": "stdout",
     "text": [
      "Part 2: 2942387\n"
     ]
    }
   ],
   "source": [
    "# Get all rows before invalid answer\n",
    "validRows = rows[0:maxIndex]\n",
    "\n",
    "# Find set in valid rows that sums to answer of part 1\n",
    "contiguousSet = findContiguousSet(validRows, result1)\n",
    "\n",
    "# Calculate result 2\n",
    "result2 = min(contiguousSet) + max(contiguousSet)\n",
    "\n",
    "print(f\"Part 2: {result2}\")"
   ]
  }
 ]
}